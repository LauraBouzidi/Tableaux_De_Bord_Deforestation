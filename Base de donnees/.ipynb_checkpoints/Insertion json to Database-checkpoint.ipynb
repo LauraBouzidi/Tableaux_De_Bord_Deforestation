{
 "cells": [
  {
   "cell_type": "markdown",
   "metadata": {},
   "source": [
    "+ Caminade Adrien\n",
    "+ Marcu Quentin\n",
    "+ Bouzidi Laura\n",
    "<center><h1>\n",
    " Insertion en Bd</h1>\n",
    "</center>"
   ]
  },
  {
   "cell_type": "markdown",
   "metadata": {},
   "source": [
    "### Import package"
   ]
  },
  {
   "cell_type": "code",
   "execution_count": 1,
   "metadata": {
    "collapsed": true
   },
   "outputs": [],
   "source": [
    "import pyodbc\n",
    "import json\n",
    "import os\n",
    "import ast\n",
    "from tqdm import tqdm_notebook"
   ]
  },
  {
   "cell_type": "markdown",
   "metadata": {},
   "source": [
    "### Connect to database"
   ]
  },
  {
   "cell_type": "code",
   "execution_count": 2,
   "metadata": {
    "collapsed": true
   },
   "outputs": [],
   "source": [
    "conn = pyodbc.connect('Driver={SQL Server};'\n",
    "                      'Server=localhost\\SQLEXPRESS02;'\n",
    "                      'Database=master;'\n",
    "                      'Trusted_Connection=yes;')"
   ]
  },
  {
   "cell_type": "markdown",
   "metadata": {},
   "source": [
    "### Chemin des fichiers"
   ]
  },
  {
   "cell_type": "code",
   "execution_count": 3,
   "metadata": {
    "collapsed": true
   },
   "outputs": [],
   "source": [
    "path = \"C:/Users/theca/Documents/TablodeBordM1/Tableaux_De_Bord_Deforestation/Data/Clean_Articles_PMC\"\n",
    "dirs = os.listdir(path)\n"
   ]
  },
  {
   "cell_type": "markdown",
   "metadata": {},
   "source": [
    "### Table Articles"
   ]
  },
  {
   "cell_type": "code",
   "execution_count": 4,
   "metadata": {
    "collapsed": true,
    "scrolled": true
   },
   "outputs": [],
   "source": [
    "for file in dirs:\n",
    "    article = open(path + \"/\" + file, 'r', encoding='utf-8')\n",
    "    json = article.read()\n",
    "    json = ast.literal_eval(json)\n",
    "    # Insertion article\n",
    "    id_article = json[\"id\"]\n",
    "    titre_article = json[\"title\"]\n",
    "    date_article = json[\"date\"]\n",
    "    sentiment_article = json[\"feeling\"]\n",
    "    titre_article = titre_article.replace(\"'\", \" \")\n",
    "    if len(date_article) > 5:\n",
    "        date_article = date_article[-4:]\n",
    "    insert_article = conn.cursor()\n",
    "    insert_article.execute(\"Insert Into master.dbo.Articles Values ('\" + str(id_article) + \"','\" + str(titre_article) + \"',\" + str(date_article) + \",\" + str(sentiment_article) + \");\")\n",
    "    #insert_article.execute(\"Insert Into master.dbo.Articles Values ('\" + str(id_article) + \"',\" + str(date_article) + \",\" + str(sentiment_article) + \");\")\n",
    "    conn.commit()"
   ]
  },
  {
   "cell_type": "markdown",
   "metadata": {},
   "source": [
    "### Table Comporte"
   ]
  },
  {
   "cell_type": "code",
   "execution_count": null,
   "metadata": {
    "collapsed": true
   },
   "outputs": [],
   "source": [
    "for file in dirs:\n",
    "    article = open(path + \"/\" + file, 'r', encoding='utf-8')\n",
    "    json = article.read()\n",
    "    json = ast.literal_eval(json)\n",
    "    # Insertion comporte\n",
    "    id_article = json[\"id\"]\n",
    "    for word in json['key']:\n",
    "        get_id_key = conn.cursor()\n",
    "        get_id_key.execute(\"Select Id_mot from master.dbo.Mots_clefs where mot = '\" + str(word) + \"';\")\n",
    "        code = get_id_author.fetchone()\n",
    "        code = str(code).replace(\", )\",\"\")\n",
    "        code = str(code).replace(\"(\",\"\")\n",
    "        insert_key_word = conn.cursor()\n",
    "        insert_key_word.execute(\"Insert Into master.dbo.Comporte Values ('\" + str(id_article) + \"','\" + str(code) + \"');\")\n",
    "        conn.commit()"
   ]
  },
  {
   "cell_type": "markdown",
   "metadata": {},
   "source": [
    "### Table Concerne"
   ]
  },
  {
   "cell_type": "code",
   "execution_count": null,
   "metadata": {
    "collapsed": true
   },
   "outputs": [],
   "source": [
    "for file in dirs:\n",
    "    article = open(path + \"/\" + file, 'r', encoding='utf-8')\n",
    "    json = article.read()\n",
    "    json = ast.literal_eval(json)\n",
    "    # Insertion concerne\n",
    "    id_article = json[\"id\"]\n",
    "    for country in json['country_quoted']:\n",
    "        get_id_country = conn.cursor()\n",
    "        get_id_country.execute(\"Select Id_pays from master.dbo.Pays where nom_pays = '\" + str(country) + \"';\")\n",
    "        code = get_id_author.fetchone()\n",
    "        code = str(code).replace(\", )\",\"\")\n",
    "        code = str(code).replace(\"(\",\"\")\n",
    "        insert_country = conn.cursor()\n",
    "        insert_country.execute(\"Insert Into master.dbo.Concerne Values ('\" + str(id_article) + \"','\" + str(code) + \"');\")\n",
    "        conn.commit()"
   ]
  },
  {
   "cell_type": "markdown",
   "metadata": {},
   "source": [
    "### Table Origine"
   ]
  },
  {
   "cell_type": "code",
   "execution_count": null,
   "metadata": {
    "collapsed": true
   },
   "outputs": [],
   "source": [
    "for file in dirs:\n",
    "    article = open(path + \"/\" + file, 'r', encoding='utf-8')\n",
    "    json = article.read()\n",
    "    json = ast.literal_eval(json)\n",
    "    # Insertion origine\n",
    "    id_article = json[\"id\"]\n",
    "    for country in json['country']:\n",
    "        get_id_country = conn.cursor()\n",
    "        get_id_country.execute(\"Select Id_pays from master.dbo.Pays where nom_pays = '\" + str(country) + \"';\")\n",
    "        code = get_id_author.fetchone()\n",
    "        code = str(code).replace(\", )\",\"\")\n",
    "        code = str(code).replace(\"(\",\"\")\n",
    "        insert_country = conn.cursor()\n",
    "        insert_country.execute(\"Insert Into master.dbo.origine Values ('\" + str(id_article) + \"','\" + str(code) + \"');\")\n",
    "        conn.commit()"
   ]
  },
  {
   "cell_type": "markdown",
   "metadata": {},
   "source": [
    "### Table Ecrit"
   ]
  },
  {
   "cell_type": "code",
   "execution_count": null,
   "metadata": {
    "collapsed": true
   },
   "outputs": [],
   "source": [
    "from tqdm import tqdm_notebook"
   ]
  },
  {
   "cell_type": "code",
   "execution_count": null,
   "metadata": {
    "collapsed": true
   },
   "outputs": [],
   "source": [
    "list_article = []\n",
    "list_auteur = []\n",
    "for file in tqdm_notebook(dirs):\n",
    "    article = open(path + \"/\" + file, 'r', encoding='ANSI')\n",
    "    json = article.read()\n",
    "    json = ast.literal_eval(json)\n",
    "    # Insertion ecrit\n",
    "    id_article = json[\"id\"]\n",
    "    for author in json['author']:\n",
    "        author = author.replace(\"'\", \"\")\n",
    "        get_id_author = conn.cursor()\n",
    "        get_id_author.execute(\"Select Id_auteur from master.dbo.Auteurs where nom_auteur = '\" + str(author) + \"';\")\n",
    "        code = get_id_author.fetchone()\n",
    "        code = str(code).replace(\", )\",\"\")\n",
    "        code = str(code).replace(\"(\",\"\")\n",
    "        list_article.append(id_article)\n",
    "        list_auteur.append(code)"
   ]
  },
  {
   "cell_type": "code",
   "execution_count": null,
   "metadata": {
    "collapsed": true
   },
   "outputs": [],
   "source": [
    "for i in tqdm_notebook(range (len(list_article))) :\n",
    "    insert_author = conn.cursor()\n",
    "    if list_auteur != \"None\":\n",
    "        insert_author.execute(\"Insert Into master.dbo.Ecrit Values ('\" + str(list_article[i]) + \"','\" + str(list_auteur[i]) + \"');\")\n",
    "        conn.commit()"
   ]
  }
 ],
 "metadata": {
  "kernelspec": {
   "display_name": "Python 3",
   "language": "python",
   "name": "python3"
  },
  "language_info": {
   "codemirror_mode": {
    "name": "ipython",
    "version": 3
   },
   "file_extension": ".py",
   "mimetype": "text/x-python",
   "name": "python",
   "nbconvert_exporter": "python",
   "pygments_lexer": "ipython3",
   "version": "3.6.3"
  }
 },
 "nbformat": 4,
 "nbformat_minor": 2
}
