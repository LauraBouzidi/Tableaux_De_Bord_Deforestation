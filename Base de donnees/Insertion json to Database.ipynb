{
 "cells": [
  {
   "cell_type": "markdown",
   "metadata": {},
   "source": [
    "+ Caminade Adrien\n",
    "+ Marcu Quentin\n",
    "\n",
    "<center>\n",
    " Insertion en Bd\n",
    "</center>"
   ]
  },
  {
   "cell_type": "markdown",
   "metadata": {},
   "source": [
    "### Import package"
   ]
  },
  {
   "cell_type": "code",
   "execution_count": 1,
   "metadata": {
    "collapsed": true
   },
   "outputs": [],
   "source": [
    "import pyodbc\n",
    "import json\n",
    "import os\n",
    "import ast\n",
    "\n"
   ]
  },
  {
   "cell_type": "markdown",
   "metadata": {},
   "source": [
    "### Connect to database"
   ]
  },
  {
   "cell_type": "code",
   "execution_count": 2,
   "metadata": {
    "collapsed": true
   },
   "outputs": [],
   "source": [
    "conn = pyodbc.connect('Driver={SQL Server};'\n",
    "                      'Server=localhost\\SQLEXPRESS;'\n",
    "                      'Database=master;'\n",
    "                      'Trusted_Connection=yes;')"
   ]
  },
  {
   "cell_type": "markdown",
   "metadata": {},
   "source": [
    "### Chemin des fichiers"
   ]
  },
  {
   "cell_type": "code",
   "execution_count": 3,
   "metadata": {
    "collapsed": true
   },
   "outputs": [],
   "source": [
    "path = \"C:/Users/theca/Documents/TablodeBordM1/Tableaux_De_Bord_Deforestation/Data/Clean_Articles_PMC\"\n",
    "dirs = os.listdir(path)\n"
   ]
  },
  {
   "cell_type": "markdown",
   "metadata": {},
   "source": [
    "### Table Articles"
   ]
  },
  {
   "cell_type": "code",
   "execution_count": 4,
   "metadata": {
    "collapsed": true,
    "scrolled": true
   },
   "outputs": [],
   "source": [
    "for file in dirs:\n",
    "    article = open(path + \"/\" + file, 'r', encoding='utf-8')\n",
    "    json = article.read()\n",
    "    json = ast.literal_eval(json)\n",
    "    # Insertion article\n",
    "    id_article = json[\"id\"]\n",
    "    titre_article = json[\"title\"]\n",
    "    date_article = json[\"date\"]\n",
    "    sentiment_article = json[\"feeling\"]\n",
    "    titre_article = titre_article.replace(\"'\", \" \")\n",
    "    if len(date_article) > 5:\n",
    "        date_article = date_article[-4:]\n",
    "    insert_article = conn.cursor()\n",
    "    insert_article.execute(\"Insert Into master.dbo.Articles Values ('\" + str(id_article) + \"','\" + str(titre_article) + \"',\" + str(date_article) + \",\" + str(sentiment_article) + \");\")\n",
    "    #insert_article.execute(\"Insert Into master.dbo.Articles Values ('\" + str(id_article) + \"',\" + str(date_article) + \",\" + str(sentiment_article) + \");\")\n",
    "    conn.commit()"
   ]
  },
  {
   "cell_type": "markdown",
   "metadata": {
    "collapsed": true
   },
   "source": [
    "### Table Mot_clefs"
   ]
  },
  {
   "cell_type": "code",
   "execution_count": 5,
   "metadata": {
    "collapsed": true
   },
   "outputs": [],
   "source": [
    "for file in dirs:\n",
    "    article = open(path + \"/\" + file, 'r', encoding='utf-8')\n",
    "    json = article.read()\n",
    "    json = ast.literal_eval(json)\n",
    "    # Insertion mot clefs\n",
    "    id_article = json[\"id\"]\n",
    "    keywords = json[\"key\"]\n",
    "    for i in range(len(keywords)):\n",
    "        mot = keywords[i]\n",
    "        insert_keyword = conn.cursor()\n",
    "        insert_keyword.execute(\"Insert Into master.dbo.Mot_clefs Values ('\" + str(id_article) + \"','\" + str(mot) + \"');\")\n",
    "        conn.commit()"
   ]
  },
  {
   "cell_type": "markdown",
   "metadata": {},
   "source": [
    "### Table Pays_content"
   ]
  },
  {
   "cell_type": "code",
   "execution_count": 6,
   "metadata": {
    "collapsed": true
   },
   "outputs": [],
   "source": [
    "for file in dirs:\n",
    "    article = open(path + \"/\" + file, 'r', encoding='utf-8')\n",
    "    json = article.read()\n",
    "    json = ast.literal_eval(json)\n",
    "    # Insertion pays content\n",
    "    id_article = json[\"id\"]\n",
    "    pays_content = json[\"country_quoted\"]\n",
    "    for i in range(len(pays_content)):\n",
    "        pays = pays_content[i]\n",
    "        pays = pays.replace(\"'\", \" \")\n",
    "        insert_country = conn.cursor()\n",
    "        insert_country.execute(\"Insert Into master.dbo.Pays_content Values ('\" + str(id_article) + \"','\" + str(pays) + \"');\")\n",
    "        conn.commit()"
   ]
  },
  {
   "cell_type": "markdown",
   "metadata": {},
   "source": [
    "### Table Pays_origine_author"
   ]
  },
  {
   "cell_type": "code",
   "execution_count": 7,
   "metadata": {
    "collapsed": true
   },
   "outputs": [],
   "source": [
    "for file in dirs:\n",
    "    article = open(path + \"/\" + file, 'r', encoding='utf-8')\n",
    "    json = article.read()\n",
    "    json = ast.literal_eval(json)\n",
    "    # Insertion pays content\n",
    "    id_article = json[\"id\"]\n",
    "    pays_author = json[\"country\"]\n",
    "    for i in range(len(pays_author)):\n",
    "        pays = pays_author[i]\n",
    "        pays = pays.replace(\"'\", \" \")\n",
    "        insert_country_author = conn.cursor()\n",
    "        insert_country_author.execute(\"Insert Into master.dbo.Pays_origine_author Values ('\" + str(id_article) + \"','\" + str(pays) + \"');\")\n",
    "        conn.commit()"
   ]
  },
  {
   "cell_type": "markdown",
   "metadata": {},
   "source": [
    "### Table Auteurs"
   ]
  },
  {
   "cell_type": "code",
   "execution_count": 8,
   "metadata": {},
   "outputs": [],
   "source": [
    "for file in dirs:\n",
    "    article = open(path + \"/\" + file, 'r', encoding='utf-8')\n",
    "    json = article.read()\n",
    "    json = ast.literal_eval(json)\n",
    "    # Insertion pays content\n",
    "    id_article = json[\"id\"]\n",
    "    author = json[\"author\"]\n",
    "    for i in range(len(author)):\n",
    "        aut = author[i]\n",
    "        aut = aut.replace(\"'\", \" \")\n",
    "        insert_aut = conn.cursor()\n",
    "        insert_aut.execute(\"Insert Into master.dbo.Auteurs Values ('\" + str(id_article) + \"','\" + str(aut) + \"');\")\n",
    "        conn.commit()"
   ]
  },
  {
   "cell_type": "code",
   "execution_count": 9,
   "metadata": {
    "collapsed": true
   },
   "outputs": [],
   "source": [
    "article.close()"
   ]
  },
  {
   "cell_type": "code",
   "execution_count": null,
   "metadata": {
    "collapsed": true
   },
   "outputs": [],
   "source": []
  }
 ],
 "metadata": {
  "kernelspec": {
   "display_name": "Python 3",
   "language": "python",
   "name": "python3"
  },
  "language_info": {
   "codemirror_mode": {
    "name": "ipython",
    "version": 3
   },
   "file_extension": ".py",
   "mimetype": "text/x-python",
   "name": "python",
   "nbconvert_exporter": "python",
   "pygments_lexer": "ipython3",
   "version": "3.6.3"
  }
 },
 "nbformat": 4,
 "nbformat_minor": 2
}
